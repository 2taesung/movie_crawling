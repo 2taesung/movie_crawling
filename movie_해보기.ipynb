{
 "metadata": {
  "language_info": {
   "codemirror_mode": {
    "name": "ipython",
    "version": 3
   },
   "file_extension": ".py",
   "mimetype": "text/x-python",
   "name": "python",
   "nbconvert_exporter": "python",
   "pygments_lexer": "ipython3",
   "version": 3
  },
  "orig_nbformat": 2,
  "kernelspec": {
   "name": "python_defaultSpec_1596529701089",
   "display_name": "Python 3.7.6 64-bit ('base': conda)"
  }
 },
 "nbformat": 4,
 "nbformat_minor": 2,
 "cells": [
  {
   "cell_type": "code",
   "execution_count": 27,
   "metadata": {
    "tags": []
   },
   "outputs": [
    {
     "output_type": "stream",
     "name": "stdout",
     "text": "강철비2: 정상회담\n188909\n반도\n185917\n빅샤크3: 젤리몬스터 대소동\n194799\n알라딘\n163788\n온워드: 단 하루의 기적\n187351\n소년시절의 너\n192066\n밤쉘: 세상을 바꾼 폭탄선언\n191143\n존 윅\n123300\n1942: 언노운 배틀\n194791\n세인트 주디\n168051\n파리의 인어\n194486\n마티아스와 막심\n185273\n위대한 쇼맨\n106360\n블루 아워\n183429\n#살아있다\n189537\n소년 아메드\n185269\n카오산 탱고\n174261\n비바리움\n187294\n슈퍼 레이스\n186931\n모든 것을 벗어던진 특별한 여행\n194294\n지저귀는 새는 날지 않는다\n194693\n시네마 천국\n10001\n부활\n194368\n원 데이\n79770\n너와 파도를 탈 수 있다면\n186348\n피아니스트의 전설\n29059\n에베레스트\n194295\n카페 벨에포크\n185285\n팬데믹\n194766\n야구소녀\n189633\n테우리\n194661\n패왕별희 디 오리지널\n14448\n톰보이\n85825\n이장\n185150\n고 피쉬!\n194284\n미션\n10086\n트랜짓\n173247\n어게인\n189747\n킹 오브 프리즘 올 스타즈 -프리즘 쇼☆베스트10-\n191642\n스타 이즈 본\n168050\n타오르는 여인의 초상\n185282\n트로이\n37742\n미녀와 야수\n136872\n소리꾼\n189118\n벌새\n179307\n시티 오브 갓\n36651\n래미와 친구들 : 푸른푸른 초원의 위기\n194371\n전망 좋은 방\n10480\n라라랜드\n134963\n헤이트풀8\n124238\n루비\n189622\n환상의 마로나\n186347\n베스트 오퍼\n101248\n팡파레\n186235\n우리들\n146504\n찬실이는 복도 많지\n189624\n결백\n180378\n쓰루 더 파이어\n184759\n로제타\n27111\n다크 나이트\n62586\n인비저블 라이프\n185292\n우리집 똥멍청이\n194765\n아무튼, 아담\n194807\n더 차일드\n41554\n다가오는 것들\n147945\n아들\n35180\n소셜노마드\n194344\n아디오스\n191714\n이태원\n153934\n에이브의 쿠킹 다이어리\n182099\n레이니 데이 인 뉴욕\n152691\n안녕, 미누\n178520\n시라이\n187297\n소공녀\n159311\n창은\n190616\n국도극장\n178569\n가버나움\n174830\n광주비디오: 사라진 4시간\n194688\n아이 캔 온리 이매진\n169647\n프리즈너\n194285\n샤인\n17970\n울지마 톤즈 2 : 슈크란 바바\n190223\n보희와 녹양\n179397\n나는보리\n179394\n욕창\n185151\n바람의 언덕\n189438\n백년의 기억\n188162\n밤의 문이 열린다\n176625\n16세의 사운드트랙\n194004\n고양이 집사\n190447\n기억의 전쟁\n179414\n몽상가들\n37544\n안녕, 나의 소울메이트\n156912\n인베이젼 2020\n193326\n카메라를 멈추면 안 돼!\n174301\n프랑스여자\n185380\n2017 동명이인 프로젝트\n166416\n나의 노래는 멀리멀리\n187979\n내일을 위한 시간\n123298\n래미의 드래곤월드 구출작전\n195081\n말 없는 사나이\n30012\n매치 포인트\n40932\n미스비헤이비어\n192623\n바다로 가자\n181099\n불량한 가족\n194007\n비행\n172181\n산티아고의 흰 지팡이\n188030\n수색자\n20324\n쉘부르의 우산\n10323\n스쿠프\n56220\n용쟁호투\n10182\n울프 콜\n189028\n유령선\n193839\n이유없는 반항\n10566\n이창\n10621\n작은 빛\n180851\n지붕 위의 바이올린\n10592\n호우시절\n69952\n내친구아내\n173998\n뮤지컬 쉬 러브즈 미\n162816\n미스 사이공: 25주년 특별 공연\n155123\n미져리\n10489\n언노운 걸\n150372\n에이리언\n10037\n에이리언 2\n10038\n조디악\n52555\n캐리\n11757\n플라이\n11093\n"
    }
   ],
   "source": [
    "import requests\n",
    "from bs4 import BeautifulSoup\n",
    "import csv\n",
    "\n",
    "\n",
    "\n",
    "URL = 'https://movie.naver.com/movie/running/current.nhn'\n",
    "\n",
    "response = requests.get(URL)\n",
    "soup = BeautifulSoup(response.text, 'html.parser')\n",
    "\n",
    "\n",
    "\n",
    "news_section = soup.select(\n",
    "        '#content > div.article > div > div.lst_wrap > ul > li')\n",
    "\n",
    "\n",
    "for news in news_section:\n",
    "    a_tag = news.select_one('dl > dt > a')\n",
    "    news_title = a_tag.text\n",
    "    news_link = a_tag['href']  \n",
    "    b = news_link.split(\"=\")\n",
    "\n",
    "    print(news_title)\n",
    "    print(b[1])\n",
    "\n",
    "    # news_data = {\n",
    "    #     'title' : news_title,\n",
    "    #     'href' : news_link\n",
    "    # }\n",
    "\n",
    "# print(news_data)\n",
    "       "
   ]
  },
  {
   "cell_type": "code",
   "execution_count": null,
   "metadata": {},
   "outputs": [],
   "source": []
  }
 ]
}